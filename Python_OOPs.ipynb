{
  "nbformat": 4,
  "nbformat_minor": 0,
  "metadata": {
    "colab": {
      "provenance": []
    },
    "kernelspec": {
      "name": "python3",
      "display_name": "Python 3"
    },
    "language_info": {
      "name": "python"
    }
  },
  "cells": [
    {
      "cell_type": "markdown",
      "source": [
        "# **Python OOPs Questions**\n",
        "\n",
        "\n",
        "---\n",
        "\n",
        "1) What is Object-Oriented Programming (OOP)?\n",
        "\n",
        "-> Object-Oriented Programming (OOP) is a programming paradigm that organizes code into objects, which encapsulate both data (attributes) and behavior (methods).\n",
        "\n",
        "It follows four key principles:\n",
        "\n",
        "  * ***Encapsulation***, which restricts direct access to data and ensures security\n",
        "\n",
        "* ***Abstraction***, which hides implementation details and exposes only necessary functionality\n",
        "\n",
        "*  ***Inheritance***, which allows one class to inherit properties and behaviors from another, promoting code reusability\n",
        "\n",
        "* ***Polymorphism***, which enables methods to take multiple forms, improving flexibility. OOP enhances modularity, maintainability, scalability, and security, making it a widely used approach in software development.\n",
        "\n",
        "---\n",
        "\n",
        "2) What is a class in OOP?\n",
        "\n",
        "-> In OOP, a class is a blueprint for creating objects, defining their attributes (data) and behaviors (methods) without storing actual data itself.\n",
        "\n",
        "---\n",
        "\n",
        "3)  What is an object in OOP?\n",
        "\n",
        "-> In OOP, an object is an instance of a class that has its own unique values for attributes and can perform behaviors defined by the class.\n",
        "\n",
        "---\n",
        "\n",
        "4) What is the difference between abstraction and encapsulation?\n",
        "\n",
        "-> Abstraction and Encapsulation are both key OOP concepts but serve different purposes:\n",
        "\n",
        "1-  **Abstraction** focuses on hiding implementation details and exposing only the necessary functionalities to the user (e.g., using abstract classes or interfaces).\n",
        "\n",
        "2- **Encapsulation** is about hiding data by restricting direct access and allowing modifications only through controlled methods (e.g., using private variables with getters and setters).\n",
        "\n",
        "***Example:***\n",
        "\n",
        "**Abstraction**: A car's steering wheel allows you to turn, but you don’t need to know how the mechanism works.\n",
        "\n",
        "**Encapsulation**: The engine is hidden inside the car, and you can only interact with it via controls like the accelerator.\n",
        "\n",
        "---\n",
        "\n",
        "5)  What are dunder methods in Python?\n",
        "\n",
        "-> Dunder methods in Python are special methods with double underscores (e.g., __init__, __str__) that customize built-in behaviors like object creation, string representation, and operator overloading.\n",
        "\n",
        "---\n",
        "\n",
        "6) Explain the concept of inheritance in OOP.\n",
        "\n",
        "-> Inheritance in OOP is a concept where a child class acquires the properties and behaviors of a parent class, allowing code reuse and establishing a hierarchical relationship between classes.\n",
        "\n",
        " It helps in reducing redundancy, improving maintainability, and enabling polymorphism by allowing child classes to modify or extend the functionality of the parent class.\n",
        "\n",
        " ---\n",
        "\n",
        " 7)  What is polymorphism in OOP?\n",
        "\n",
        " -> Polymorphism in OOP is the ability of different classes to be treated as instances of the same class through a common interface, allowing methods to have different implementations based on the object calling them.\n",
        "\n",
        "  It enables flexibility and reusability in code through method overloading (same method name, different parameters) and method overriding (same method name in parent and child classes with different implementations).\n",
        "\n",
        "\n",
        "---\n",
        "\n",
        "8)  How is encapsulation achieved in Python?\n",
        "\n",
        "-> Encapsulation in Python is achieved by using access modifiers to restrict direct access to class attributes and methods.\n",
        "\n",
        " Public attributes can be accessed freely, protected attributes (prefix _) are meant for internal use but can still be accessed, and private attributes (prefix __) cannot be accessed directly outside the class. Instead, private data is accessed or modified through getter and setter methods, ensuring controlled access and data security.\n",
        "\n",
        " ---\n",
        "\n",
        " 9)  What is a constructor in Python?\n",
        "\n",
        " ->  A constructor in Python is a special method called __init__ that initializes a new object's state by setting up its attributes when the object is created.\n",
        "\n",
        "---\n",
        "\n",
        "10)  What are class and static methods in Python?\n",
        "\n",
        "-> Class methods are methods that are bound to the class rather than its instance. They receive the class as the first parameter (commonly named cls) and can modify class state or call other class methods.\n",
        "\n",
        "Static methods are methods that do not receive any implicit first argument (neither the class nor instance). They function like regular functions but belong to the class's namespace for logical grouping.\n",
        "\n",
        "---\n",
        "\n",
        "11)  What is method overloading in Python?\n",
        "\n",
        "->  Method overloading refers to defining multiple methods with the same name but different parameters. However, Python does not support method overloading natively; if multiple methods with the same name are defined, the last one overrides the earlier ones. Instead, similar behavior can be achieved using default arguments, variable-length argument lists, or decorators like @singledispatch.\n",
        "\n",
        "---\n",
        "\n",
        "12)  What is method overriding in OOP?\n",
        "\n",
        "-> Method overriding in OOP is when a subclass provides its own implementation for a method already defined in its parent class. This allows the subclass to modify or extend the behavior of the inherited method while keeping the same method signature\n",
        "\n",
        "---\n",
        "\n",
        "13)  What is a property decorator in Python?\n",
        "\n",
        "-> A property decorator in Python (using @property) converts a method into a managed attribute. It allows you to define getter, setter, and deleter functionality for a class attribute, enabling controlled access and encapsulation without changing the attribute access syntax.\n",
        "\n",
        "\n",
        "---\n",
        "\n",
        "14) Why is polymorphism important in OOP?\n",
        "\n",
        "-> Polymorphism is important in OOP because it enables objects of different classes to be treated through a common interface. This allows for flexible and reusable code, simplifies maintenance, and makes it easier to extend systems without changing existing functionality.\n",
        "\n",
        "---\n",
        "\n",
        "15)  What is an abstract class in Python?\n",
        "\n",
        "->  An abstract class in Python serves as a blueprint for other classes. It is defined using the abc module and contains one or more methods decorated with @abstractmethod, which must be implemented by any concrete subclass. Abstract classes cannot be instantiated on their own, ensuring that only subclasses with complete implementations are used.\n",
        "\n",
        "---\n",
        "\n",
        "16)  What are the advantages of OOP?\n",
        "\n",
        "-> Advantages of Object-Oriented Programming (OOP) include:\n",
        "\n",
        "- **Encapsulation:** Bundles data and methods into classes, hiding internal implementation details.\n",
        "- **Abstraction:** Simplifies complex systems by exposing only essential features.\n",
        "- **Inheritance:** Promotes code reuse by allowing new classes to adopt characteristics of existing ones.\n",
        "- **Polymorphism:** Enables objects of different classes to be treated uniformly through a common interface.\n",
        "- **Modularity:** Organizes code into manageable, self-contained units, enhancing maintainability and scalability.\n",
        "- **Reusability and Extensibility:** Facilitates building systems that can be easily extended or modified without significant rework.\n",
        "\n",
        "---\n",
        "\n",
        "17)  What is the difference between a class variable and an instance variable?\n",
        "\n",
        "->  Class variables are defined at the class level and are shared by all instances, while instance variables are defined within methods (like `__init__`) and are unique to each object.\n",
        "\n",
        "---\n",
        "\n",
        "18)  What is multiple inheritance in Python?\n",
        "\n",
        "->  Multiple inheritance in Python allows a class to inherit attributes and methods from more than one parent class. This enables the subclass to combine behaviors from multiple sources, but requires careful handling of the method resolution order (MRO) to manage potential conflicts.\n",
        "\n",
        "---\n",
        "\n",
        "19) Explain the purpose of ‘’__str__’ and ‘__repr__’ ‘ methods in Python.\n",
        "\n",
        "-> The __str__ method returns a user-friendly, informal string representation of an object (used by print() and str()), while the __repr__ method returns an unambiguous, formal representation aimed at developers (used by the interactive interpreter and repr()\n",
        "\n",
        "---\n",
        "\n",
        "20)  What is the significance of the ‘super()’ function in Python?\n",
        "\n",
        "-> The super() function allows a subclass to call methods from its parent class without explicitly naming it. This helps in:\n",
        "\n",
        "Simplifying Code: Avoids hard-coding the parent class name.\n",
        "Ensuring Proper Initialization: Commonly used in constructors to initialize inherited attributes.\n",
        "Supporting Multiple Inheritance: Manages the method resolution order (MRO) efficiently in complex hierarchies.\n",
        "\n",
        "---\n",
        "\n",
        "21) What is the significance of the __del__ method in Python?\n",
        "\n",
        "-> The `__del__` method in Python is a destructor that's invoked when an object is about to be garbage collected. It allows you to perform cleanup tasks (like releasing resources) before the object is removed from memory. However, because the timing of its call is determined by the garbage collector and can be unpredictable, it's generally better to use context managers for managing resources.\n",
        "\n",
        "---\n",
        "\n",
        "22) What is the difference between @staticmethod and @classmethod in Python?\n",
        "\n",
        "-> A @staticmethod doesn't receive any implicit first argument and acts like a plain function within the class's namespace, while a @classmethod receives the class (typically as cls) as its first argument, allowing it to access or modify class-level attributes.\n",
        "\n",
        "---\n",
        "\n",
        "23) How does polymorphism work in Python with inheritance?\n",
        "\n",
        "->  Polymorphism in Python allows objects of different classes—often connected through inheritance—to be used interchangeably, as they share common methods or interfaces. This is achieved by:\n",
        "\n",
        "- **Method Overriding:** Subclasses can override methods inherited from a parent class to provide specialized behavior while maintaining the same method name.\n",
        "- **Dynamic Binding:** When a method is called on an object, Python determines at runtime which implementation to execute based on the object's actual type.\n",
        "- **Unified Interfaces:** Code written to operate on a base class can work with any subclass, fostering flexibility and code reuse.\n",
        "\n",
        "In essence, polymorphism, combined with inheritance, enables developers to write more generic and extensible code.\n",
        "\n",
        "---\n",
        "\n",
        "24)  What is method chaining in Python OOP?\n",
        "\n",
        "-> Method chaining in Python OOP is a technique where methods return the object itself (typically via `self`), allowing multiple method calls to be chained together in a single statement. This leads to more concise and readable code.\n",
        "\n",
        "---\n",
        "\n",
        "25) What is the purpose of the __call__ method in Python?\n",
        "\n",
        "-> The `__call__` method allows an instance of a class to be called as if it were a function. By defining `__call__`, you enable custom behavior when using the function call syntax (i.e., `instance()`) on objects.\n",
        "\n",
        "---\n",
        "---"
      ],
      "metadata": {
        "id": "SpLbMMczZsoy"
      }
    },
    {
      "cell_type": "markdown",
      "source": [
        "# **Practical Questions**\n",
        "\n",
        "---\n"
      ],
      "metadata": {
        "id": "wqRuKxzDZq8P"
      }
    },
    {
      "cell_type": "code",
      "execution_count": 4,
      "metadata": {
        "id": "D7ILAwCoZo1n",
        "colab": {
          "base_uri": "https://localhost:8080/"
        },
        "outputId": "0bb03ece-4494-4113-dad7-09e64dfba1e5"
      },
      "outputs": [
        {
          "output_type": "stream",
          "name": "stdout",
          "text": [
            "This animal makes a sound.\n",
            "Bark!\n"
          ]
        }
      ],
      "source": [
        "'1) Create a parent class Animal with a method speak() that prints a generic message.'\n",
        "'Create a child class Dog that overrides the speak() method to print \"Bark!\".'\n",
        "\n",
        "class Animal:\n",
        "    def speak(self):\n",
        "        print(\"This animal makes a sound.\")\n",
        "\n",
        "class Dog(Animal):\n",
        "    def speak(self):\n",
        "        print(\"Bark!\")\n",
        "\n",
        "# Example usage\n",
        "animal = Animal()\n",
        "animal.speak()  # Output: This animal makes a sound.\n",
        "\n",
        "dog = Dog()\n",
        "dog.speak()  # Output: Bark!\n"
      ]
    },
    {
      "cell_type": "code",
      "source": [
        "'2) Write a program to create an abstract class Shape with a method area().'\n",
        "'Derive classes Circle and Rectangle from it and implement the area() method in both.'\n",
        "\n",
        "from abc import ABC, abstractmethod\n",
        "\n",
        "class Shape(ABC):\n",
        "    @abstractmethod\n",
        "    def area(self):\n",
        "        pass\n",
        "\n",
        "class Circle(Shape):\n",
        "    def __init__(self, radius):\n",
        "        self.radius = radius\n",
        "\n",
        "    def area(self):\n",
        "        return 3.14 * self.radius * self.radius\n",
        "\n",
        "class Rectangle(Shape):\n",
        "    def __init__(self, length, width):\n",
        "        self.length = length\n",
        "        self.width = width\n",
        "\n",
        "    def area(self):\n",
        "        return self.length * self.width\n",
        "\n",
        "# Example usage\n",
        "circle = Circle(5)\n",
        "print(\"Circle Area:\", circle.area())  # Output: Circle Area: 78.5\n",
        "\n",
        "rectangle = Rectangle(4, 6)\n",
        "print(\"Rectangle Area:\", rectangle.area())  # Output: Rectangle Area: 24\n",
        "\n",
        "\n"
      ],
      "metadata": {
        "colab": {
          "base_uri": "https://localhost:8080/"
        },
        "id": "V1NlmcewH2jL",
        "outputId": "893326a6-275a-45d1-f242-3b90920de148"
      },
      "execution_count": 5,
      "outputs": [
        {
          "output_type": "stream",
          "name": "stdout",
          "text": [
            "Circle Area: 78.5\n",
            "Rectangle Area: 24\n"
          ]
        }
      ]
    },
    {
      "cell_type": "code",
      "source": [
        "'3) Implement a multi-level inheritance scenario where a class Vehicle has an attribute type. Derive a class Car'\n",
        "'and further derive a class ElectricCar that adds a battery attribute'\n",
        "\n",
        "class Vehicle:\n",
        "    def __init__(self, vehicle_type):\n",
        "        self.vehicle_type = vehicle_type\n",
        "\n",
        "    def show_type(self):\n",
        "        print(f\"Vehicle Type: {self.vehicle_type}\")\n",
        "\n",
        "class Car(Vehicle):\n",
        "    def __init__(self, brand, vehicle_type=\"Car\"):\n",
        "        super().__init__(vehicle_type)\n",
        "        self.brand = brand\n",
        "\n",
        "    def show_brand(self):\n",
        "        print(f\"Car Brand: {self.brand}\")\n",
        "\n",
        "class ElectricCar(Car):\n",
        "    def __init__(self, brand, battery_capacity):\n",
        "        super().__init__(brand)\n",
        "        self.battery_capacity = battery_capacity\n",
        "\n",
        "    def show_battery(self):\n",
        "        print(f\"Battery Capacity: {self.battery_capacity} kWh\")\n",
        "\n",
        "# Example usage\n",
        "vehicle = Vehicle(\"General\")\n",
        "vehicle.show_type()  # Output: Vehicle Type: General\n",
        "\n",
        "car = Car(\"Toyota\")\n",
        "car.show_type()  # Output: Vehicle Type: Car\n",
        "car.show_brand()  # Output: Car Brand: Toyota\n",
        "\n",
        "electric_car = ElectricCar(\"Tesla\", 75)\n",
        "electric_car.show_type()  # Output: Vehicle Type: Car\n",
        "electric_car.show_brand()  # Output: Car Brand: Tesla\n",
        "electric_car.show_battery()  # Output: Battery Capacity: 75 kWh\n"
      ],
      "metadata": {
        "colab": {
          "base_uri": "https://localhost:8080/"
        },
        "id": "DsGftv3kIgyF",
        "outputId": "17f0c7be-03ae-4c36-eece-81012617039d"
      },
      "execution_count": 6,
      "outputs": [
        {
          "output_type": "stream",
          "name": "stdout",
          "text": [
            "Vehicle Type: General\n",
            "Vehicle Type: Car\n",
            "Car Brand: Toyota\n",
            "Vehicle Type: Car\n",
            "Car Brand: Tesla\n",
            "Battery Capacity: 75 kWh\n"
          ]
        }
      ]
    },
    {
      "cell_type": "code",
      "source": [
        "'4) Demonstrate polymorphism by creating a base class Bird with a method fly(). Create two derived classes'\n",
        "'Sparrow and Penguin that override the fly() method.'\n",
        "\n",
        "class Bird:\n",
        "    def fly(self):\n",
        "        print(\"Some birds can fly.\")\n",
        "\n",
        "class Sparrow(Bird):\n",
        "    def fly(self):\n",
        "        print(\"Sparrow can fly high.\")\n",
        "\n",
        "class Penguin(Bird):\n",
        "    def fly(self):\n",
        "        print(\"Penguins cannot fly.\")\n",
        "\n",
        "# Example usage\n",
        "bird = Bird()\n",
        "bird.fly()  # Output: Some birds can fly.\n",
        "\n",
        "sparrow = Sparrow()\n",
        "sparrow.fly()  # Output: Sparrow can fly high.\n",
        "\n",
        "penguin = Penguin()\n",
        "penguin.fly()  # Output: Penguins cannot fly."
      ],
      "metadata": {
        "colab": {
          "base_uri": "https://localhost:8080/"
        },
        "id": "3vH_Svo2Iya-",
        "outputId": "d8900e6e-f8fa-426b-8294-abe0bfe67f7d"
      },
      "execution_count": 8,
      "outputs": [
        {
          "output_type": "stream",
          "name": "stdout",
          "text": [
            "Some birds can fly.\n",
            "Sparrow can fly high.\n",
            "Penguins cannot fly.\n"
          ]
        }
      ]
    },
    {
      "cell_type": "code",
      "source": [
        "'5) Write a program to demonstrate encapsulation by creating a class BankAccount with private attributes'\n",
        "'balance and methods to deposit, withdraw, and check balance.'\n",
        "\n",
        "class BankAccount:\n",
        "    def __init__(self, initial_balance=0):\n",
        "        self.__balance = initial_balance\n",
        "\n",
        "    def deposit(self, amount):\n",
        "        if amount > 0:\n",
        "            self.__balance += amount\n",
        "            print(f\"Deposited: {amount}\")\n",
        "        else:\n",
        "            print(\"Invalid deposit amount.\")\n",
        "\n",
        "    def withdraw(self, amount):\n",
        "        if 0 < amount <= self.__balance:\n",
        "            self.__balance -= amount\n",
        "            print(f\"Withdrawn: {amount}\")\n",
        "        else:\n",
        "            print(\"Invalid or insufficient funds.\")\n",
        "\n",
        "    def check_balance(self):\n",
        "        print(f\"Current Balance: {self.__balance}\")\n",
        "\n",
        "# Example usage\n",
        "account = BankAccount(100)\n",
        "account.check_balance()  # Output: Current Balance: 100\n",
        "account.deposit(50)      # Output: Deposited: 50\n",
        "account.check_balance()  # Output: Current Balance: 150\n",
        "account.withdraw(30)     # Output: Withdrawn: 30\n",
        "account.check_balance()  # Output: Current Balance: 120\n"
      ],
      "metadata": {
        "colab": {
          "base_uri": "https://localhost:8080/"
        },
        "id": "0FHiL9GaI-8N",
        "outputId": "1c6beb18-581d-4b3e-b274-5bc954cb7d2d"
      },
      "execution_count": 9,
      "outputs": [
        {
          "output_type": "stream",
          "name": "stdout",
          "text": [
            "Current Balance: 100\n",
            "Deposited: 50\n",
            "Current Balance: 150\n",
            "Withdrawn: 30\n",
            "Current Balance: 120\n"
          ]
        }
      ]
    },
    {
      "cell_type": "code",
      "source": [
        "'6) Demonstrate runtime polymorphism using a method play() in a base class Instrument. Derive classes Guitar'\n",
        "'and Piano that implement their own version of play().'\n",
        "\n",
        "class Instrument:\n",
        "    def play(self):\n",
        "        print(\"Playing an instrument.\")\n",
        "\n",
        "class Guitar(Instrument):\n",
        "    def play(self):\n",
        "        print(\"Playing the guitar: Strum Strum!\")\n",
        "\n",
        "class Piano(Instrument):\n",
        "    def play(self):\n",
        "        print(\"Playing the piano: Melody flows!\")\n",
        "\n",
        "# Example usage\n",
        "def perform(instrument):\n",
        "    instrument.play()\n",
        "\n",
        "instrument = Instrument()\n",
        "guitar = Guitar()\n",
        "piano = Piano()\n",
        "\n",
        "perform(instrument)  # Output: Playing an instrument.\n",
        "perform(guitar)      # Output: Playing the guitar: Strum Strum!\n",
        "perform(piano)       # Output: Playing the piano: Melody flows!\n"
      ],
      "metadata": {
        "colab": {
          "base_uri": "https://localhost:8080/"
        },
        "id": "-WuU-xY1JKBT",
        "outputId": "2c0fe4e2-0864-479b-a83b-bf3976443e81"
      },
      "execution_count": 10,
      "outputs": [
        {
          "output_type": "stream",
          "name": "stdout",
          "text": [
            "Playing an instrument.\n",
            "Playing the guitar: Strum Strum!\n",
            "Playing the piano: Melody flows!\n"
          ]
        }
      ]
    },
    {
      "cell_type": "code",
      "source": [
        "'7) Create a class MathOperations with a class method add_numbers() to add two numbers and a static'\n",
        "'method subtract_numbers() to subtract two numbers.'\n",
        "\n",
        "class MathOperations:\n",
        "    @classmethod\n",
        "    def add_numbers(cls, a, b):\n",
        "        return a + b\n",
        "\n",
        "    @staticmethod\n",
        "    def subtract_numbers(a, b):\n",
        "        return a - b\n",
        "\n",
        "# Example usage\n",
        "print(\"Addition:\", MathOperations.add_numbers(10, 5))  # Output: Addition: 15\n",
        "print(\"Subtraction:\", MathOperations.subtract_numbers(10, 5))  # Output: Subtraction: 5\n"
      ],
      "metadata": {
        "colab": {
          "base_uri": "https://localhost:8080/"
        },
        "id": "sQd-sf1DJUJ7",
        "outputId": "ab3c4025-0234-42dd-c4fb-2e1d3232109d"
      },
      "execution_count": 11,
      "outputs": [
        {
          "output_type": "stream",
          "name": "stdout",
          "text": [
            "Addition: 15\n",
            "Subtraction: 5\n"
          ]
        }
      ]
    },
    {
      "cell_type": "code",
      "source": [
        "'8)  Implement a class Person with a class method to count the total number of persons created.'\n",
        "\n",
        "class Person:\n",
        "    count = 0\n",
        "\n",
        "    def __init__(self, name):\n",
        "        self.name = name\n",
        "        Person.count += 1\n",
        "\n",
        "    @classmethod\n",
        "    def total_persons(cls):\n",
        "        return cls.count\n",
        "\n",
        "# Example usage\n",
        "p1 = Person(\"Alice\")\n",
        "p2 = Person(\"Bob\")\n",
        "print(\"Total Persons:\", Person.total_persons())  # Output: Total Persons: 2"
      ],
      "metadata": {
        "colab": {
          "base_uri": "https://localhost:8080/"
        },
        "id": "CD8lwkb6JiS2",
        "outputId": "e7a46925-8fd5-4dca-8e5c-c61cb73cdcc7"
      },
      "execution_count": 12,
      "outputs": [
        {
          "output_type": "stream",
          "name": "stdout",
          "text": [
            "Total Persons: 2\n"
          ]
        }
      ]
    },
    {
      "cell_type": "code",
      "source": [
        "'9) Write a class Fraction with attributes numerator and denominator. Override the str method to display the'\n",
        "'fraction as \"numerator/denominator\".'\n",
        "\n",
        "class Fraction:\n",
        "    def __init__(self, numerator, denominator):\n",
        "        self.numerator = numerator\n",
        "        self.denominator = denominator\n",
        "\n",
        "    def __str__(self):\n",
        "        return f\"{self.numerator}/{self.denominator}\"\n",
        "\n",
        "# Example usage\n",
        "f1 = Fraction(3, 4)\n",
        "f2 = Fraction(5, 8)\n",
        "print(f\"Fraction 1: {f1}\")  # Output: Fraction 1: 3/4\n",
        "print(f\"Fraction 2: {f2}\")  # Output: Fraction 2: 5/8\n"
      ],
      "metadata": {
        "colab": {
          "base_uri": "https://localhost:8080/"
        },
        "id": "qWZ86o8-Jp6i",
        "outputId": "3e604938-efd9-419d-9365-8d52904a6b1e"
      },
      "execution_count": 13,
      "outputs": [
        {
          "output_type": "stream",
          "name": "stdout",
          "text": [
            "Fraction 1: 3/4\n",
            "Fraction 2: 5/8\n"
          ]
        }
      ]
    },
    {
      "cell_type": "code",
      "source": [
        "'10)  Demonstrate operator overloading by creating a class Vector and overriding the add method to add two vectors.'\n",
        "\n",
        "class Vector:\n",
        "    def __init__(self, x, y):\n",
        "        self.x = x\n",
        "        self.y = y\n",
        "\n",
        "    def __add__(self, other):\n",
        "        return Vector(self.x + other.x, self.y + other.y)\n",
        "\n",
        "    def __str__(self):\n",
        "        return f\"({self.x}, {self.y})\"\n",
        "\n",
        "# Example usage\n",
        "v1 = Vector(2, 3)\n",
        "v2 = Vector(4, 5)\n",
        "v3 = v1 + v2\n",
        "print(f\"Vector 1: {v1}\")  # Output: Vector 1: (2, 3)\n",
        "print(f\"Vector 2: {v2}\")  # Output: Vector 2: (4, 5)\n",
        "print(f\"Sum of Vectors: {v3}\")  # Output: Sum of Vectors: (6, 8)"
      ],
      "metadata": {
        "colab": {
          "base_uri": "https://localhost:8080/"
        },
        "id": "VXqXo9iMJyYz",
        "outputId": "17df1172-c9ea-46f8-acc6-c62b1b3b7d49"
      },
      "execution_count": 14,
      "outputs": [
        {
          "output_type": "stream",
          "name": "stdout",
          "text": [
            "Vector 1: (2, 3)\n",
            "Vector 2: (4, 5)\n",
            "Sum of Vectors: (6, 8)\n"
          ]
        }
      ]
    },
    {
      "cell_type": "code",
      "source": [
        "'11) Create a class Person with attributes name and age. Add a method greet() that prints \"Hello, my name is'\n",
        "'{name} and I am {age} years old.'\n",
        "\n",
        "class Person:\n",
        "    def __init__(self, name, age):\n",
        "        self.name = name\n",
        "        self.age = age\n",
        "\n",
        "    def greet(self):\n",
        "        print(f\"Hello, my name is {self.name} and I am {self.age} years old.\")\n",
        "\n",
        "# Example usage\n",
        "p1 = Person(\"Alice\", 30)\n",
        "p2 = Person(\"Bob\", 25)\n",
        "p1.greet()  # Output: Hello, my name is Alice and I am 30 years old.\n",
        "p2.greet()  # Output: Hello, my name is Bob and I am 25 years old.\n"
      ],
      "metadata": {
        "colab": {
          "base_uri": "https://localhost:8080/"
        },
        "id": "HGITmXw9J8JS",
        "outputId": "6fd0d03d-fce8-4222-85a3-ea6ce3f401ce"
      },
      "execution_count": 15,
      "outputs": [
        {
          "output_type": "stream",
          "name": "stdout",
          "text": [
            "Hello, my name is Alice and I am 30 years old.\n",
            "Hello, my name is Bob and I am 25 years old.\n"
          ]
        }
      ]
    },
    {
      "cell_type": "code",
      "source": [
        "'12) Implement a class Student with attributes name and grades. Create a method average_grade() to compute the average of the grades.'\n",
        "class Student:\n",
        "    def __init__(self, name, grades):\n",
        "        self.name = name\n",
        "        self.grades = grades\n",
        "\n",
        "    def average_grade(self):\n",
        "        return sum(self.grades) / len(self.grades) if self.grades else 0\n",
        "\n",
        "# Example usage\n",
        "s1 = Student(\"Alice\", [85, 90, 78])\n",
        "s2 = Student(\"Bob\", [92, 88, 95])\n",
        "print(f\"{s1.name}'s Average Grade: {s1.average_grade()}\")  # Output: Alice's Average Grade: 84.33\n",
        "print(f\"{s2.name}'s Average Grade: {s2.average_grade()}\")  # Output: Bob's Average Grade: 91.67\n"
      ],
      "metadata": {
        "colab": {
          "base_uri": "https://localhost:8080/"
        },
        "id": "m7TsS8tIKI_a",
        "outputId": "26d66861-143b-4443-df45-9310b3e6cf59"
      },
      "execution_count": 16,
      "outputs": [
        {
          "output_type": "stream",
          "name": "stdout",
          "text": [
            "Alice's Average Grade: 84.33333333333333\n",
            "Bob's Average Grade: 91.66666666666667\n"
          ]
        }
      ]
    },
    {
      "cell_type": "code",
      "source": [
        "'13)  Create a class Rectangle with methods set_dimensions() to set the dimensions and area() to calculate the area.'\n",
        "\n",
        "class Rectangle:\n",
        "    def __init__(self):\n",
        "        self.length = 0\n",
        "        self.width = 0\n",
        "\n",
        "    def set_dimensions(self, length, width):\n",
        "        self.length = length\n",
        "        self.width = width\n",
        "\n",
        "    def area(self):\n",
        "        return self.length * self.width\n",
        "\n",
        "# Example usage\n",
        "rect = Rectangle()\n",
        "rect.set_dimensions(5, 10)\n",
        "print(f\"Rectangle Area: {rect.area()}\")  # Output: Rectangle Area: 50"
      ],
      "metadata": {
        "colab": {
          "base_uri": "https://localhost:8080/"
        },
        "id": "zwwU39wQKWQq",
        "outputId": "e824e1d3-a12f-44b6-8f66-67876d52ee2c"
      },
      "execution_count": 17,
      "outputs": [
        {
          "output_type": "stream",
          "name": "stdout",
          "text": [
            "Rectangle Area: 50\n"
          ]
        }
      ]
    },
    {
      "cell_type": "code",
      "source": [
        "'14)  Create a class Employee with a method calculate_salary() that computes the salary based on hours worked'\n",
        "'and hourly rate. Create a derived class Manager that adds a bonus to the salary.'\n",
        "\n",
        "class Employee:\n",
        "    def __init__(self, name, hours_worked, hourly_rate):\n",
        "        self.name = name\n",
        "        self.hours_worked = hours_worked\n",
        "        self.hourly_rate = hourly_rate\n",
        "\n",
        "    def calculate_salary(self):\n",
        "        return self.hours_worked * self.hourly_rate\n",
        "\n",
        "class Manager(Employee):\n",
        "    def __init__(self, name, hours_worked, hourly_rate, bonus):\n",
        "        super().__init__(name, hours_worked, hourly_rate)\n",
        "        self.bonus = bonus\n",
        "\n",
        "    def calculate_salary(self):\n",
        "        return super().calculate_salary() + self.bonus\n",
        "\n",
        "# Example usage\n",
        "emp = Employee(\"Alice\", 40, 20)\n",
        "print(f\"{emp.name}'s Salary: {emp.calculate_salary()}\")  # Output: Alice's Salary: 800\n",
        "\n",
        "mgr = Manager(\"Bob\", 40, 30, 500)\n",
        "print(f\"{mgr.name}'s Salary: {mgr.calculate_salary()}\")  # Output: Bob's Salary: 1700\n"
      ],
      "metadata": {
        "colab": {
          "base_uri": "https://localhost:8080/"
        },
        "id": "65tdrI7SKeBi",
        "outputId": "da22bdf8-fc3d-42c7-b5b4-dc25735569a9"
      },
      "execution_count": 18,
      "outputs": [
        {
          "output_type": "stream",
          "name": "stdout",
          "text": [
            "Alice's Salary: 800\n",
            "Bob's Salary: 1700\n"
          ]
        }
      ]
    },
    {
      "cell_type": "code",
      "source": [
        "'15) Create a class Product with attributes name, price, and quantity. Implement a method total_price() that'\n",
        "'calculates the total price of the product.'\n",
        "\n",
        "class Product:\n",
        "    def __init__(self, name, price, quantity):\n",
        "        self.name = name\n",
        "        self.price = price\n",
        "        self.quantity = quantity\n",
        "\n",
        "    def total_price(self):\n",
        "        return self.price * self.quantity\n",
        "\n",
        "# Example usage\n",
        "product1 = Product(\"Laptop\", 800, 2)\n",
        "product2 = Product(\"Phone\", 500, 3)\n",
        "print(f\"Total price for {product1.name}: {product1.total_price()}\")  # Output: Total price for Laptop: 1600\n",
        "print(f\"Total price for {product2.name}: {product2.total_price()}\")  # Output: Total price for Phone: 1500\n"
      ],
      "metadata": {
        "colab": {
          "base_uri": "https://localhost:8080/"
        },
        "id": "ZjT7lL6JONyy",
        "outputId": "7afc6bd7-ffb7-4b7c-9eca-3557fa43e732"
      },
      "execution_count": 19,
      "outputs": [
        {
          "output_type": "stream",
          "name": "stdout",
          "text": [
            "Total price for Laptop: 1600\n",
            "Total price for Phone: 1500\n"
          ]
        }
      ]
    },
    {
      "cell_type": "code",
      "source": [
        "'16) Create a class Animal with an abstract method sound(). Create two derived classes Cow and Sheep that'\n",
        "'implement the sound() method'\n",
        "\n",
        "from abc import ABC, abstractmethod\n",
        "\n",
        "class Animal(ABC):\n",
        "    @abstractmethod\n",
        "    def sound(self):\n",
        "        pass\n",
        "\n",
        "class Cow(Animal):\n",
        "    def sound(self):\n",
        "        print(\"Moo!\")\n",
        "\n",
        "class Sheep(Animal):\n",
        "    def sound(self):\n",
        "        print(\"Baa!\")\n",
        "\n",
        "# Example usage\n",
        "cow = Cow()\n",
        "cow.sound()  # Output: Moo!\n",
        "\n",
        "sheep = Sheep()\n",
        "sheep.sound()  # Output: Baa!"
      ],
      "metadata": {
        "colab": {
          "base_uri": "https://localhost:8080/"
        },
        "id": "zXZcLA0VOYVk",
        "outputId": "06af8244-e1c7-4f1c-8ea8-258acafda491"
      },
      "execution_count": 20,
      "outputs": [
        {
          "output_type": "stream",
          "name": "stdout",
          "text": [
            "Moo!\n",
            "Baa!\n"
          ]
        }
      ]
    },
    {
      "cell_type": "code",
      "source": [
        "\"17) Create a class Book with attributes title, author, and year_published. Add a method get_book_info() that\"\n",
        "\"returns a formatted string with the book's details.\"\n",
        "class Book:\n",
        "    def __init__(self, title, author, year_published):\n",
        "        self.title = title\n",
        "        self.author = author\n",
        "        self.year_published = year_published\n",
        "\n",
        "    def get_book_info(self):\n",
        "        return f\"'{self.title}' by {self.author}, published in {self.year_published}.\"\n",
        "\n",
        "# Example usage\n",
        "book1 = Book(\"1984\", \"George Orwell\", 1949)\n",
        "book2 = Book(\"To Kill a Mockingbird\", \"Harper Lee\", 1960)\n",
        "print(book1.get_book_info())  # Output: '1984' by George Orwell, published in 1949.\n",
        "print(book2.get_book_info())  # Output: 'To Kill a Mockingbird' by Harper Lee, published in 1960.\n",
        "\n"
      ],
      "metadata": {
        "colab": {
          "base_uri": "https://localhost:8080/"
        },
        "id": "yT4PW1vdOiaq",
        "outputId": "7f48ecde-2d65-4daa-ab0c-425089accaef"
      },
      "execution_count": 22,
      "outputs": [
        {
          "output_type": "stream",
          "name": "stdout",
          "text": [
            "'1984' by George Orwell, published in 1949.\n",
            "'To Kill a Mockingbird' by Harper Lee, published in 1960.\n"
          ]
        }
      ]
    },
    {
      "cell_type": "code",
      "source": [
        "'18) Create a class House with attributes address and price. Create a derived class Mansion that adds an'\n",
        "'attribute number_of_rooms.'\n",
        "\n",
        "class House:\n",
        "    def __init__(self, address, price):\n",
        "        self.address = address\n",
        "        self.price = price\n",
        "\n",
        "    def get_house_info(self):\n",
        "        return f\"House located at {self.address}, priced at ${self.price}.\"\n",
        "\n",
        "class Mansion(House):\n",
        "    def __init__(self, address, price, number_of_rooms):\n",
        "        super().__init__(address, price)\n",
        "        self.number_of_rooms = number_of_rooms\n",
        "\n",
        "    def get_mansion_info(self):\n",
        "        return f\"Mansion located at {self.address}, priced at ${self.price}, with {self.number_of_rooms} rooms.\"\n",
        "\n",
        "# Example usage\n",
        "house = House(\"123 Main St\", 250000)\n",
        "mansion = Mansion(\"456 Luxury Ave\", 5000000, 15)\n",
        "print(house.get_house_info())  # Output: House located at 123 Main St, priced at $250000.\n",
        "print(mansion.get_mansion_info())  # Output: Mansion located at 456 Luxury Ave, priced at $5000000, with 15 rooms.\n"
      ],
      "metadata": {
        "colab": {
          "base_uri": "https://localhost:8080/"
        },
        "id": "nMLHPKVSO5eq",
        "outputId": "5ed52ef2-fae7-4e30-bc53-d733426b7667"
      },
      "execution_count": 23,
      "outputs": [
        {
          "output_type": "stream",
          "name": "stdout",
          "text": [
            "House located at 123 Main St, priced at $250000.\n",
            "Mansion located at 456 Luxury Ave, priced at $5000000, with 15 rooms.\n"
          ]
        }
      ]
    },
    {
      "cell_type": "code",
      "source": [],
      "metadata": {
        "id": "tX3vAc-rPHSr"
      },
      "execution_count": null,
      "outputs": []
    }
  ]
}